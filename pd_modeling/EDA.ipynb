{
 "cells": [
  {
   "cell_type": "code",
   "execution_count": 3,
   "id": "172a80fc",
   "metadata": {},
   "outputs": [
    {
     "ename": "ModuleNotFoundError",
     "evalue": "No module named 'pandas'",
     "output_type": "error",
     "traceback": [
      "\u001b[1;31m---------------------------------------------------------------------------\u001b[0m",
      "\u001b[1;31mModuleNotFoundError\u001b[0m                       Traceback (most recent call last)",
      "Cell \u001b[1;32mIn[3], line 1\u001b[0m\n\u001b[1;32m----> 1\u001b[0m \u001b[39mimport\u001b[39;00m \u001b[39mpandas\u001b[39;00m \u001b[39mas\u001b[39;00m \u001b[39mpd\u001b[39;00m\n\u001b[0;32m      2\u001b[0m \u001b[39mimport\u001b[39;00m \u001b[39mnumpy\u001b[39;00m \u001b[39mas\u001b[39;00m \u001b[39mnp\u001b[39;00m\n\u001b[0;32m      3\u001b[0m \u001b[39mimport\u001b[39;00m \u001b[39mmatplotlib\u001b[39;00m\u001b[39m.\u001b[39;00m\u001b[39mpyplot\u001b[39;00m \u001b[39mas\u001b[39;00m \u001b[39mplt\u001b[39;00m\n",
      "\u001b[1;31mModuleNotFoundError\u001b[0m: No module named 'pandas'"
     ]
    }
   ],
   "source": [
    "import pandas as pd\n",
    "import numpy as np\n",
    "import matplotlib.pyplot as plt\n",
    "import statsmodels.api as sm\n",
    "import seaborn as sns"
   ]
  },
  {
   "cell_type": "code",
   "execution_count": null,
   "id": "668f00be",
   "metadata": {},
   "outputs": [
    {
     "name": "stdout",
     "output_type": "stream",
     "text": [
      "   loan_amnt  funded_amnt  funded_amnt_inv        term  int_rate  installment  \\\n",
      "0       5000         5000           4975.0   36 months     10.65       162.87   \n",
      "1       2500         2500           2500.0   60 months     15.27        59.83   \n",
      "2       2400         2400           2400.0   36 months     15.96        84.33   \n",
      "3      10000        10000          10000.0   36 months     13.49       339.31   \n",
      "4       3000         3000           3000.0   60 months     12.69        67.79   \n",
      "\n",
      "  home_ownership  annual_inc verification_status  total_acc   total_pymnt  \\\n",
      "0           RENT     24000.0            Verified        9.0   5861.071414   \n",
      "1           RENT     30000.0     Source Verified        4.0   1008.710000   \n",
      "2           RENT     12252.0        Not Verified       10.0   3003.653644   \n",
      "3           RENT     49200.0     Source Verified       37.0  12226.302210   \n",
      "4           RENT     80000.0     Source Verified       38.0   3242.170000   \n",
      "\n",
      "   total_pymnt_inv  total_rec_prncp  total_rec_int  last_pymnt_amnt  status  \n",
      "0          5831.78          5000.00         861.07           171.62       0  \n",
      "1          1008.71           456.46         435.17           119.66       1  \n",
      "2          3003.65          2400.00         603.65           649.91       0  \n",
      "3         12226.30         10000.00        2209.33           357.48       0  \n",
      "4          3242.17          2233.10        1009.07            67.79       0  \n"
     ]
    }
   ],
   "source": [
    "# Load the data\n",
    "data = pd.read_csv(\"./credit_risk_data_v2.csv\")\n",
    "\n",
    "# Handle missing values\n",
    "data = data.dropna()\n",
    "\n",
    "print(data.head(5))"
   ]
  },
  {
   "cell_type": "code",
   "execution_count": null,
   "id": "0a01c0e4",
   "metadata": {},
   "outputs": [
    {
     "name": "stdout",
     "output_type": "stream",
     "text": [
      "(466256, 16)\n",
      "Index(['loan_amnt', 'funded_amnt', 'funded_amnt_inv', 'term', 'int_rate',\n",
      "       'installment', 'home_ownership', 'annual_inc', 'verification_status',\n",
      "       'total_acc', 'total_pymnt', 'total_pymnt_inv', 'total_rec_prncp',\n",
      "       'total_rec_int', 'last_pymnt_amnt', 'status'],\n",
      "      dtype='object')\n"
     ]
    }
   ],
   "source": [
    "# Amount of rows and columns\n",
    "print(data.shape)\n",
    "print(data.columns)"
   ]
  },
  {
   "cell_type": "code",
   "execution_count": null,
   "id": "837e0d28",
   "metadata": {},
   "outputs": [
    {
     "name": "stdout",
     "output_type": "stream",
     "text": [
      "<class 'pandas.core.frame.DataFrame'>\n",
      "Int64Index: 466256 entries, 0 to 466284\n",
      "Data columns (total 16 columns):\n",
      " #   Column               Non-Null Count   Dtype  \n",
      "---  ------               --------------   -----  \n",
      " 0   loan_amnt            466256 non-null  int64  \n",
      " 1   funded_amnt          466256 non-null  int64  \n",
      " 2   funded_amnt_inv      466256 non-null  float64\n",
      " 3   term                 466256 non-null  object \n",
      " 4   int_rate             466256 non-null  float64\n",
      " 5   installment          466256 non-null  float64\n",
      " 6   home_ownership       466256 non-null  object \n",
      " 7   annual_inc           466256 non-null  float64\n",
      " 8   verification_status  466256 non-null  object \n",
      " 9   total_acc            466256 non-null  float64\n",
      " 10  total_pymnt          466256 non-null  float64\n",
      " 11  total_pymnt_inv      466256 non-null  float64\n",
      " 12  total_rec_prncp      466256 non-null  float64\n",
      " 13  total_rec_int        466256 non-null  float64\n",
      " 14  last_pymnt_amnt      466256 non-null  float64\n",
      " 15  status               466256 non-null  int64  \n",
      "dtypes: float64(10), int64(3), object(3)\n",
      "memory usage: 60.5+ MB\n",
      "None\n"
     ]
    }
   ],
   "source": [
    "# Basic information\n",
    "print(data.info())"
   ]
  },
  {
   "cell_type": "code",
   "execution_count": null,
   "id": "d1d5859f",
   "metadata": {},
   "outputs": [
    {
     "name": "stdout",
     "output_type": "stream",
     "text": [
      "           loan_amnt    funded_amnt  funded_amnt_inv       int_rate  \\\n",
      "count  466256.000000  466256.000000    466256.000000  466256.000000   \n",
      "mean    14317.925292   14292.451733     14223.162366      13.829513   \n",
      "std      8286.339281    8274.197912      8297.216946       4.357561   \n",
      "min       500.000000     500.000000         0.000000       5.420000   \n",
      "25%      8000.000000    8000.000000      8000.000000      10.990000   \n",
      "50%     12000.000000   12000.000000     12000.000000      13.660000   \n",
      "75%     20000.000000   20000.000000     19950.000000      16.490000   \n",
      "max     35000.000000   35000.000000     35000.000000      26.060000   \n",
      "\n",
      "         installment    annual_inc      total_acc    total_pymnt  \\\n",
      "count  466256.000000  4.662560e+05  466256.000000  466256.000000   \n",
      "mean      432.080469  7.327749e+04      25.064430   11541.137432   \n",
      "std       243.480184  5.496301e+04      11.600141    8265.661898   \n",
      "min        15.670000  1.896000e+03       1.000000       0.000000   \n",
      "25%       256.760000  4.500000e+04      17.000000    5552.615000   \n",
      "50%       379.915000  6.300000e+04      23.000000    9419.880000   \n",
      "75%       566.620000  8.895150e+04      32.000000   15308.735000   \n",
      "max      1409.990000  7.500000e+06     156.000000   57777.579870   \n",
      "\n",
      "       total_pymnt_inv  total_rec_prncp  total_rec_int  last_pymnt_amnt  \\\n",
      "count    466256.000000    466256.000000  466256.000000    466256.000000   \n",
      "mean      11470.547736      8866.341344    2588.809240      3124.095683   \n",
      "std        8253.986974      7031.761398    2483.829425      5554.861293   \n",
      "min           0.000000         0.000000       0.000000         0.000000   \n",
      "25%        5499.480000      3708.920000     957.470000       312.620000   \n",
      "50%        9355.970000      6817.890000    1819.015000       545.960000   \n",
      "75%       15232.057500     12000.000000    3304.652500      3188.432500   \n",
      "max       57777.580000     35000.030000   24205.620000     36234.440000   \n",
      "\n",
      "              status  \n",
      "count  466256.000000  \n",
      "mean        0.109307  \n",
      "std         0.312024  \n",
      "min         0.000000  \n",
      "25%         0.000000  \n",
      "50%         0.000000  \n",
      "75%         0.000000  \n",
      "max         1.000000  \n"
     ]
    }
   ],
   "source": [
    "# Describe the data\n",
    "print(data.describe())"
   ]
  },
  {
   "cell_type": "code",
   "execution_count": null,
   "id": "ac11776c",
   "metadata": {},
   "outputs": [
    {
     "data": {
      "image/png": "[encoded data removed]",
      "text/plain": [
       "<Figure size 432x288 with 2 Axes>"
      ]
     },
     "metadata": {
      "needs_background": "light"
     },
     "output_type": "display_data"
    }
   ],
   "source": [
    "# correlation with the status column\n",
    "corr = data.set_index('status').corr()\n",
    "sm.graphics.plot_corr(corr, xnames=list(corr.columns))\n",
    "plt.show()"
   ]
  }
 ],
 "metadata": {
  "kernelspec": {
   "display_name": "Python 3 (ipykernel)",
   "language": "python",
   "name": "python3"
  },
  "language_info": {
   "codemirror_mode": {
    "name": "ipython",
    "version": 3
   },
   "file_extension": ".py",
   "mimetype": "text/x-python",
   "name": "python",
   "nbconvert_exporter": "python",
   "pygments_lexer": "ipython3",
   "version": "3.10.9"
  }
 },
 "nbformat": 4,
 "nbformat_minor": 5
}
