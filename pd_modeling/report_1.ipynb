{
 "cells": [
  {
   "cell_type": "code",
   "execution_count": null,
   "id": "cb328873",
   "metadata": {},
   "outputs": [],
   "source": [
    "import pandas as pd\n",
    "from sklearn.model_selection import train_test_split\n",
    "from sklearn.linear_model import LogisticRegression\n",
    "from sklearn.metrics import accuracy_score\n",
    "import seaborn as sns\n",
    "import matplotlib.pyplot as plt\n",
    "import numpy as np\n",
    "from xgboost.sklearn import XGBRegressor\n",
    "import sklearn.linear_model as slm"
   ]
  },
  {
   "cell_type": "code",
   "execution_count": null,
   "id": "512a0b0b",
   "metadata": {},
   "outputs": [],
   "source": [
    "#Raw Data\n",
    "# Load the raw data into a Pandas DataFrame\n",
    "data = pd.read_csv('credit_risk_data_v2.csv')\n",
    "\n",
    "# Clean and preprocess the data\n",
    "# Handle missing values\n",
    "data = data.dropna()\n",
    "\n",
    "# Encode categorical variables\n",
    "categorical_cols = ['term','home_ownership', 'verification_status']\n",
    "data = pd.get_dummies(data, columns=categorical_cols)\n",
    "\n",
    "# Scale the numerical variables\n",
    "numerical_cols = ['loan_amnt', 'funded_amnt', 'funded_amnt_inv', 'int_rate', 'installment', 'annual_inc', 'total_acc', 'total_pymnt', 'total_pymnt_inv', 'total_rec_prncp', 'total_rec_int', 'last_pymnt_amnt']\n",
    "data[numerical_cols] = (data[numerical_cols] - data[numerical_cols].mean()) / data[numerical_cols].std()\n",
    "\n",
    "data = data.reset_index(drop=True)\n",
    "\n",
    "# Definir X e Y\n",
    "X = data.drop(['status'], axis=1)\n",
    "Y = data['status']\n",
    "\n",
    "# Dividir los datos en entrenamiento y prueba\n",
    "X_train, X_test, Y_train, Y_test = train_test_split(X, Y, test_size=0.2, random_state=42)"
   ]
  },
  {
   "cell_type": "markdown",
   "id": "a5322666",
   "metadata": {},
   "source": [
    "## MODEL 1"
   ]
  },
  {
   "cell_type": "code",
   "execution_count": null,
   "id": "35b7d106",
   "metadata": {},
   "outputs": [],
   "source": [
    "# Entrenar el modelo de regresión logística\n",
    "model.fit(X_train, Y_train)\n",
    "\n",
    "# Realizar predicciones en los datos de prueba\n",
    "Y_pred = model.predict(X_test)\n",
    "\n",
    "# Evaluar la precisión del modelo\n",
    "accuracy = accuracy_score(Y_test, Y_pred)\n",
    "print(\"Precisión del modelo:\", accuracy)"
   ]
  },
  {
   "cell_type": "markdown",
   "id": "8e06eead",
   "metadata": {},
   "source": [
    "## MODEL 2"
   ]
  },
  {
   "cell_type": "code",
   "execution_count": null,
   "id": "819a79f4",
   "metadata": {},
   "outputs": [],
   "source": [
    "model = BayesianRidge()\n",
    "model.fit(X_train, Y_train)\n",
    "# Realizar predicciones en los datos de prueba\n",
    "Y_pred = model.predict(X_test)\n",
    "\n",
    "# Evaluar la precisión del modelo\n",
    "accuracy = accuracy_score(Y_test, Y_pred.round())\n",
    "print(\"Precisión del modelo:\", accuracy)"
   ]
  },
  {
   "cell_type": "markdown",
   "id": "8036a365",
   "metadata": {},
   "source": [
    "## MODEL 3"
   ]
  },
  {
   "cell_type": "code",
   "execution_count": null,
   "id": "74672591",
   "metadata": {},
   "outputs": [],
   "source": [
    "model = XGBRegressor()\n",
    "model.fit(X_train, Y_train)\n",
    "# Realizar predicciones en los datos de prueba\n",
    "Y_pred = model.predict(X_test)\n",
    "\n",
    "# Evaluar la precisión del modelo\n",
    "accuracy = accuracy_score(Y_test, Y_pred.round())\n",
    "print(\"Precisión del modelo:\", accuracy)"
   ]
  }
 ],
 "metadata": {
  "kernelspec": {
   "display_name": "Python 3 (ipykernel)",
   "language": "python",
   "name": "python3"
  },
  "language_info": {
   "codemirror_mode": {
    "name": "ipython",
    "version": 3
   },
   "file_extension": ".py",
   "mimetype": "text/x-python",
   "name": "python",
   "nbconvert_exporter": "python",
   "pygments_lexer": "ipython3",
   "version": "3.10.9"
  }
 },
 "nbformat": 4,
 "nbformat_minor": 5
}
