{
 "cells": [
  {
   "cell_type": "code",
   "execution_count": 45,
   "id": "b13ae9e4",
   "metadata": {},
   "outputs": [],
   "source": [
    "import matplotlib.pyplot as plt\n",
    "import numpy as np\n",
    "import pandas as pd\n",
    "import pickle\n",
    "import sys\n",
    "\n",
    "from sklearn.ensemble import GradientBoostingClassifier\n",
    "from sklearn.exceptions import NotFittedError\n",
    "from sklearn.linear_model import LogisticRegression\n",
    "from sklearn.metrics import roc_curve, auc, f1_score\n",
    "from sklearn.model_selection import train_test_split\n",
    "from sklearn.pipeline import Pipeline\n",
    "from sklearn.preprocessing import OrdinalEncoder\n",
    "\n",
    "from typing import List, Dict"
   ]
  },
  {
   "cell_type": "code",
   "execution_count": 46,
   "id": "10c6cd18",
   "metadata": {},
   "outputs": [],
   "source": [
    "seed = 0"
   ]
  },
  {
   "cell_type": "code",
   "execution_count": 47,
   "id": "d5f0381c",
   "metadata": {},
   "outputs": [],
   "source": [
    "dataset = pd.read_csv(\"credit_risk_data_v2.csv\")\n",
    "dataset = dataset.dropna()\n",
    "\n",
    "class ColumnSelectorTransformer:\n",
    "    def __init__(self, columns: List[str]):\n",
    "        self.columns = columns\n",
    "    \n",
    "    def transform(self, X: pd.DataFrame, y: pd.DataFrame = None) -> pd.DataFrame:\n",
    "        return X.loc[:, self.columns]\n",
    "    \n",
    "    def fit(self, *args, **kwargs): \n",
    "        return self\n",
    "    \n",
    "    def __str__(self) -> str:\n",
    "        return f\"ColumnSelectorTransformer({self.columns})\"\n",
    "    \n",
    "    def __repr__(self) -> str:\n",
    "        return f\"ColumnSelectorTransformer({self.columns})\"\n",
    "    \n",
    "\n",
    "class BinningTransformer:\n",
    "    def __init__(self, bins: Dict):\n",
    "        self.bins = bins\n",
    "        \n",
    "    def __find_bin(self, value: float, mappings: List):\n",
    "        for mapping in mappings:\n",
    "            if value <= mapping[\"max\"]:\n",
    "                return mapping[\"label\"]\n",
    "        return \"Error\"\n",
    "        \n",
    "    def transform(self, X: pd.DataFrame, y: pd.DataFrame = None) -> pd.DataFrame:\n",
    "        X = X.copy()\n",
    "        for key in self.bins.keys():\n",
    "            X.loc[:, key] = X.loc[:, key].transform(lambda x: self.__find_bin(x, self.bins[key]))\n",
    "        return X\n",
    "\n",
    "    def fit(self, *args, **kwargs):\n",
    "        return self\n",
    "    \n",
    "    def __str__(self) -> str:\n",
    "        return \"BinningTransformer()\"\n",
    "    \n",
    "    def __repr__(self) -> str:\n",
    "        return \"BinningTransformer()\"\n",
    "\n",
    "    \n",
    "class WOETransformer:\n",
    "    def __init__(self, columns: List[str], target_mappings: Dict = {0: \"good\", 1: \"bad\"}):\n",
    "        self.target_mappings = target_mappings\n",
    "        self.columns = columns\n",
    "        self.woe_mappings = None\n",
    "    \n",
    "    def __get_absolute_odds(self, df: pd.DataFrame, col: str):\n",
    "        key_first, key_second = list(self.target_mappings.keys())\n",
    "        return (\n",
    "            df.query(f\"status=={key_first}\")\n",
    "            .groupby(col).size().reset_index()\n",
    "            .rename(columns={0: self.target_mappings[key_first]})\n",
    "            .set_index(col)\n",
    "        ).join(\n",
    "            df.query(f\"status=={key_second}\")\n",
    "            .groupby(col).size().reset_index()\n",
    "            .rename(columns={0: self.target_mappings[key_second]})\n",
    "            .set_index(col)\n",
    "        ).reset_index()[[col, \"good\", \"bad\"]]\n",
    "\n",
    "    @staticmethod\n",
    "    def __calculate_relative_odds(row: pd.Series, total_good: int, total_bad: int) -> pd.Series:\n",
    "        return pd.Series(\n",
    "            {\n",
    "                **row.to_dict(),\n",
    "                \"good\": row[\"good\"] / total_good,\n",
    "                \"bad\": row[\"bad\"] / total_bad\n",
    "            }\n",
    "        )\n",
    "\n",
    "    def __get_odds(self, df: pd.DataFrame, col: str,\n",
    "                   absolute_values: bool = False) -> pd.DataFrame:\n",
    "        key_first, key_second = list(self.target_mappings.keys())\n",
    "        odds_absolute = self.__get_absolute_odds(df, col)\n",
    "\n",
    "        if absolute_values:\n",
    "            return odds_absolute\n",
    "\n",
    "        # Relative Odds\n",
    "        total_good = odds_absolute[\"good\"].sum()\n",
    "        total_bad = odds_absolute[\"bad\"].sum()\n",
    "        return odds_absolute.apply(\n",
    "            lambda row: WOETransformer.__calculate_relative_odds(row, total_good, total_bad),\n",
    "            axis=1\n",
    "        )\n",
    "\n",
    "    @staticmethod\n",
    "    def __calculate_woe(row: pd.Series) -> pd.Series:\n",
    "        return pd.Series(\n",
    "            {\n",
    "                **row.to_dict(),\n",
    "                \"woe\": np.log(row[\"good\"] / row[\"bad\"]),\n",
    "                \"info_val\": (row[\"good\"] - row[\"bad\"]) * np.log(row[\"good\"] / row[\"bad\"])\n",
    "            }\n",
    "        )\n",
    "\n",
    "    def __set_woe_mappings(self, X: pd.DataFrame, y: pd.Series,\n",
    "                           absolute_values: bool = False) -> None:\n",
    "        df = X.copy()\n",
    "        df[\"status\"] = y\n",
    "        \n",
    "        self.woe_mappings = {\n",
    "            col: self.__get_odds(df, col, absolute_values)\\\n",
    "                .apply(lambda row: WOETransformer.__calculate_woe(row), axis=1)\\\n",
    "                .sort_values(by=\"woe\", axis=0, ascending=True)\n",
    "            for col in self.columns\n",
    "        }\n",
    "        \n",
    "    def fit(self, X: pd.DataFrame, y: pd.DataFrame, *args, **kwargs):\n",
    "        self.__set_woe_mappings(X, y, *args, **kwargs)\n",
    "        return self\n",
    "    \n",
    "    def transform(self, X: pd.DataFrame, y: pd.DataFrame = None) -> pd.DataFrame:\n",
    "        if self.woe_mappings is None:\n",
    "            raise NotFittedError(f\"This {self} instance is not fitted yet. Call 'fit' with appropriate arguments before using this transformer.\")\n",
    "        df = X.copy()\n",
    "        out = pd.DataFrame([])\n",
    "        for col in df.columns:\n",
    "            mapping = self.woe_mappings[col].set_index(col)\n",
    "            categories = list(mapping.index)\n",
    "            out[col] = df.loc[:, col].apply(lambda cat: mapping.loc[cat, \"woe\"])\n",
    "        return out\n",
    "    \n",
    "    def __str__(self) -> str:\n",
    "        return f\"WOETransformer(columns={self.columns}, target_mappings={self.target_mappings})\"\n",
    "    \n",
    "    def __repr__(self) -> str:\n",
    "        return f\"WOETransformer(columns={self.columns}, target_mappings={self.target_mappings})\""
   ]
  },
  {
   "cell_type": "code",
   "execution_count": 48,
   "id": "59bc51cb",
   "metadata": {},
   "outputs": [],
   "source": [
    "from bins import bins"
   ]
  },
  {
   "cell_type": "code",
   "execution_count": 49,
   "id": "ed9e8898",
   "metadata": {},
   "outputs": [],
   "source": [
    "x_train = dataset.drop(\"status\", axis=1)\n",
    "y_train = dataset[\"status\"]\n",
    "\n",
    "cols_to_keep = ['loan_amnt', 'funded_amnt', 'funded_amnt_inv', 'int_rate', 'installment', \n",
    "                'annual_inc', 'total_acc', 'total_pymnt', 'total_pymnt_inv', 'total_rec_prncp', \n",
    "                'total_rec_int', 'last_pymnt_amnt']"
   ]
  },
  {
   "cell_type": "markdown",
   "id": "cc031c5c",
   "metadata": {},
   "source": [
    "## Transformations"
   ]
  },
  {
   "cell_type": "code",
   "execution_count": 50,
   "id": "cab81ff0",
   "metadata": {},
   "outputs": [],
   "source": [
    "column_t = ColumnSelectorTransformer(cols_to_keep)\n",
    "binning_t = BinningTransformer(bins)\n",
    "woe_t = WOETransformer(cols_to_keep)"
   ]
  },
  {
   "cell_type": "code",
   "execution_count": 51,
   "id": "a6bb41c7",
   "metadata": {},
   "outputs": [
    {
     "data": {
      "text/html": [
       "<div>\n",
       "<style scoped>\n",
       "    .dataframe tbody tr th:only-of-type {\n",
       "        vertical-align: middle;\n",
       "    }\n",
       "\n",
       "    .dataframe tbody tr th {\n",
       "        vertical-align: top;\n",
       "    }\n",
       "\n",
       "    .dataframe thead th {\n",
       "        text-align: right;\n",
       "    }\n",
       "</style>\n",
       "<table border=\"1\" class=\"dataframe\">\n",
       "  <thead>\n",
       "    <tr style=\"text-align: right;\">\n",
       "      <th></th>\n",
       "      <th>loan_amnt</th>\n",
       "      <th>funded_amnt</th>\n",
       "      <th>funded_amnt_inv</th>\n",
       "      <th>int_rate</th>\n",
       "      <th>installment</th>\n",
       "      <th>annual_inc</th>\n",
       "      <th>total_acc</th>\n",
       "      <th>total_pymnt</th>\n",
       "      <th>total_pymnt_inv</th>\n",
       "      <th>total_rec_prncp</th>\n",
       "      <th>total_rec_int</th>\n",
       "      <th>last_pymnt_amnt</th>\n",
       "    </tr>\n",
       "  </thead>\n",
       "  <tbody>\n",
       "    <tr>\n",
       "      <th>0</th>\n",
       "      <td>5000</td>\n",
       "      <td>5000</td>\n",
       "      <td>4975.0</td>\n",
       "      <td>10.65</td>\n",
       "      <td>162.87</td>\n",
       "      <td>24000.0</td>\n",
       "      <td>9.0</td>\n",
       "      <td>5861.071414</td>\n",
       "      <td>5831.78</td>\n",
       "      <td>5000.00</td>\n",
       "      <td>861.07</td>\n",
       "      <td>171.62</td>\n",
       "    </tr>\n",
       "    <tr>\n",
       "      <th>1</th>\n",
       "      <td>2500</td>\n",
       "      <td>2500</td>\n",
       "      <td>2500.0</td>\n",
       "      <td>15.27</td>\n",
       "      <td>59.83</td>\n",
       "      <td>30000.0</td>\n",
       "      <td>4.0</td>\n",
       "      <td>1008.710000</td>\n",
       "      <td>1008.71</td>\n",
       "      <td>456.46</td>\n",
       "      <td>435.17</td>\n",
       "      <td>119.66</td>\n",
       "    </tr>\n",
       "    <tr>\n",
       "      <th>2</th>\n",
       "      <td>2400</td>\n",
       "      <td>2400</td>\n",
       "      <td>2400.0</td>\n",
       "      <td>15.96</td>\n",
       "      <td>84.33</td>\n",
       "      <td>12252.0</td>\n",
       "      <td>10.0</td>\n",
       "      <td>3003.653644</td>\n",
       "      <td>3003.65</td>\n",
       "      <td>2400.00</td>\n",
       "      <td>603.65</td>\n",
       "      <td>649.91</td>\n",
       "    </tr>\n",
       "    <tr>\n",
       "      <th>3</th>\n",
       "      <td>10000</td>\n",
       "      <td>10000</td>\n",
       "      <td>10000.0</td>\n",
       "      <td>13.49</td>\n",
       "      <td>339.31</td>\n",
       "      <td>49200.0</td>\n",
       "      <td>37.0</td>\n",
       "      <td>12226.302210</td>\n",
       "      <td>12226.30</td>\n",
       "      <td>10000.00</td>\n",
       "      <td>2209.33</td>\n",
       "      <td>357.48</td>\n",
       "    </tr>\n",
       "    <tr>\n",
       "      <th>4</th>\n",
       "      <td>3000</td>\n",
       "      <td>3000</td>\n",
       "      <td>3000.0</td>\n",
       "      <td>12.69</td>\n",
       "      <td>67.79</td>\n",
       "      <td>80000.0</td>\n",
       "      <td>38.0</td>\n",
       "      <td>3242.170000</td>\n",
       "      <td>3242.17</td>\n",
       "      <td>2233.10</td>\n",
       "      <td>1009.07</td>\n",
       "      <td>67.79</td>\n",
       "    </tr>\n",
       "  </tbody>\n",
       "</table>\n",
       "</div>"
      ],
      "text/plain": [
       "   loan_amnt  funded_amnt  funded_amnt_inv  int_rate  installment  annual_inc  \\\n",
       "0       5000         5000           4975.0     10.65       162.87     24000.0   \n",
       "1       2500         2500           2500.0     15.27        59.83     30000.0   \n",
       "2       2400         2400           2400.0     15.96        84.33     12252.0   \n",
       "3      10000        10000          10000.0     13.49       339.31     49200.0   \n",
       "4       3000         3000           3000.0     12.69        67.79     80000.0   \n",
       "\n",
       "   total_acc   total_pymnt  total_pymnt_inv  total_rec_prncp  total_rec_int  \\\n",
       "0        9.0   5861.071414          5831.78          5000.00         861.07   \n",
       "1        4.0   1008.710000          1008.71           456.46         435.17   \n",
       "2       10.0   3003.653644          3003.65          2400.00         603.65   \n",
       "3       37.0  12226.302210         12226.30         10000.00        2209.33   \n",
       "4       38.0   3242.170000          3242.17          2233.10        1009.07   \n",
       "\n",
       "   last_pymnt_amnt  \n",
       "0           171.62  \n",
       "1           119.66  \n",
       "2           649.91  \n",
       "3           357.48  \n",
       "4            67.79  "
      ]
     },
     "execution_count": 51,
     "metadata": {},
     "output_type": "execute_result"
    }
   ],
   "source": [
    "x_train_c = column_t.transform(x_train)\n",
    "x_train_c.head()"
   ]
  },
  {
   "cell_type": "code",
   "execution_count": 52,
   "id": "119cd35a",
   "metadata": {},
   "outputs": [
    {
     "data": {
      "text/html": [
       "<div>\n",
       "<style scoped>\n",
       "    .dataframe tbody tr th:only-of-type {\n",
       "        vertical-align: middle;\n",
       "    }\n",
       "\n",
       "    .dataframe tbody tr th {\n",
       "        vertical-align: top;\n",
       "    }\n",
       "\n",
       "    .dataframe thead th {\n",
       "        text-align: right;\n",
       "    }\n",
       "</style>\n",
       "<table border=\"1\" class=\"dataframe\">\n",
       "  <thead>\n",
       "    <tr style=\"text-align: right;\">\n",
       "      <th></th>\n",
       "      <th>loan_amnt</th>\n",
       "      <th>funded_amnt</th>\n",
       "      <th>funded_amnt_inv</th>\n",
       "      <th>int_rate</th>\n",
       "      <th>installment</th>\n",
       "      <th>annual_inc</th>\n",
       "      <th>total_acc</th>\n",
       "      <th>total_pymnt</th>\n",
       "      <th>total_pymnt_inv</th>\n",
       "      <th>total_rec_prncp</th>\n",
       "      <th>total_rec_int</th>\n",
       "      <th>last_pymnt_amnt</th>\n",
       "    </tr>\n",
       "  </thead>\n",
       "  <tbody>\n",
       "    <tr>\n",
       "      <th>0</th>\n",
       "      <td>(37, 40)</td>\n",
       "      <td>(23, 83)</td>\n",
       "      <td>(29000, 33000)</td>\n",
       "      <td>(558, 1254)</td>\n",
       "      <td>(37, 40)</td>\n",
       "      <td>(29000, 33000)</td>\n",
       "      <td>(-inf, 558)</td>\n",
       "      <td>(37, 40)</td>\n",
       "      <td>(37, 40)</td>\n",
       "      <td>(29000, 33000)</td>\n",
       "      <td>(12, 45)</td>\n",
       "      <td>(558, 1254)</td>\n",
       "    </tr>\n",
       "    <tr>\n",
       "      <th>1</th>\n",
       "      <td>(37, 40)</td>\n",
       "      <td>(23, 83)</td>\n",
       "      <td>(29000, 33000)</td>\n",
       "      <td>(47000, inf)</td>\n",
       "      <td>(37, 40)</td>\n",
       "      <td>(29000, 33000)</td>\n",
       "      <td>(-inf, 558)</td>\n",
       "      <td>(37, 40)</td>\n",
       "      <td>(37, 40)</td>\n",
       "      <td>(-inf, 29000)</td>\n",
       "      <td>(12, 45)</td>\n",
       "      <td>(558, 1254)</td>\n",
       "    </tr>\n",
       "    <tr>\n",
       "      <th>2</th>\n",
       "      <td>(37, 40)</td>\n",
       "      <td>(23, 83)</td>\n",
       "      <td>(29000, 33000)</td>\n",
       "      <td>(47000, inf)</td>\n",
       "      <td>(37, 40)</td>\n",
       "      <td>(29000, 33000)</td>\n",
       "      <td>(-inf, 558)</td>\n",
       "      <td>(37, 40)</td>\n",
       "      <td>(37, 40)</td>\n",
       "      <td>(29000, 33000)</td>\n",
       "      <td>(12, 45)</td>\n",
       "      <td>(558, 1254)</td>\n",
       "    </tr>\n",
       "    <tr>\n",
       "      <th>3</th>\n",
       "      <td>(37, 40)</td>\n",
       "      <td>(23, 83)</td>\n",
       "      <td>(29000, 33000)</td>\n",
       "      <td>(558, 1254)</td>\n",
       "      <td>(37, 40)</td>\n",
       "      <td>(29000, 33000)</td>\n",
       "      <td>(1254, 1597)</td>\n",
       "      <td>(1597, inf)</td>\n",
       "      <td>(1597, inf)</td>\n",
       "      <td>(29000, 33000)</td>\n",
       "      <td>(12, 45)</td>\n",
       "      <td>(558, 1254)</td>\n",
       "    </tr>\n",
       "    <tr>\n",
       "      <th>4</th>\n",
       "      <td>(37, 40)</td>\n",
       "      <td>(23, 83)</td>\n",
       "      <td>(29000, 33000)</td>\n",
       "      <td>(558, 1254)</td>\n",
       "      <td>(37, 40)</td>\n",
       "      <td>(1597, inf)</td>\n",
       "      <td>(1254, 1597)</td>\n",
       "      <td>(37, 40)</td>\n",
       "      <td>(37, 40)</td>\n",
       "      <td>(29000, 33000)</td>\n",
       "      <td>(12, 45)</td>\n",
       "      <td>(558, 1254)</td>\n",
       "    </tr>\n",
       "  </tbody>\n",
       "</table>\n",
       "</div>"
      ],
      "text/plain": [
       "  loan_amnt funded_amnt funded_amnt_inv      int_rate installment  \\\n",
       "0  (37, 40)    (23, 83)  (29000, 33000)   (558, 1254)    (37, 40)   \n",
       "1  (37, 40)    (23, 83)  (29000, 33000)  (47000, inf)    (37, 40)   \n",
       "2  (37, 40)    (23, 83)  (29000, 33000)  (47000, inf)    (37, 40)   \n",
       "3  (37, 40)    (23, 83)  (29000, 33000)   (558, 1254)    (37, 40)   \n",
       "4  (37, 40)    (23, 83)  (29000, 33000)   (558, 1254)    (37, 40)   \n",
       "\n",
       "       annual_inc     total_acc  total_pymnt total_pymnt_inv total_rec_prncp  \\\n",
       "0  (29000, 33000)   (-inf, 558)     (37, 40)        (37, 40)  (29000, 33000)   \n",
       "1  (29000, 33000)   (-inf, 558)     (37, 40)        (37, 40)   (-inf, 29000)   \n",
       "2  (29000, 33000)   (-inf, 558)     (37, 40)        (37, 40)  (29000, 33000)   \n",
       "3  (29000, 33000)  (1254, 1597)  (1597, inf)     (1597, inf)  (29000, 33000)   \n",
       "4     (1597, inf)  (1254, 1597)     (37, 40)        (37, 40)  (29000, 33000)   \n",
       "\n",
       "  total_rec_int last_pymnt_amnt  \n",
       "0      (12, 45)     (558, 1254)  \n",
       "1      (12, 45)     (558, 1254)  \n",
       "2      (12, 45)     (558, 1254)  \n",
       "3      (12, 45)     (558, 1254)  \n",
       "4      (12, 45)     (558, 1254)  "
      ]
     },
     "execution_count": 52,
     "metadata": {},
     "output_type": "execute_result"
    }
   ],
   "source": [
    "x_train_b = binning_t.transform(x_train_c)\n",
    "x_train_b.head()"
   ]
  },
  {
   "cell_type": "code",
   "execution_count": 53,
   "id": "17ee1aae",
   "metadata": {},
   "outputs": [
    {
     "data": {
      "text/plain": [
       "WOETransformer(columns=['loan_amnt', 'funded_amnt', 'funded_amnt_inv', 'int_rate', 'installment', 'annual_inc', 'total_acc', 'total_pymnt', 'total_pymnt_inv', 'total_rec_prncp', 'total_rec_int', 'last_pymnt_amnt'], target_mappings={0: 'good', 1: 'bad'})"
      ]
     },
     "execution_count": 53,
     "metadata": {},
     "output_type": "execute_result"
    }
   ],
   "source": [
    "woe_t.fit(x_train_b, y_train)"
   ]
  },
  {
   "cell_type": "code",
   "execution_count": 54,
   "id": "19459fe4",
   "metadata": {
    "scrolled": true
   },
   "outputs": [
    {
     "data": {
      "text/html": [
       "<div>\n",
       "<style scoped>\n",
       "    .dataframe tbody tr th:only-of-type {\n",
       "        vertical-align: middle;\n",
       "    }\n",
       "\n",
       "    .dataframe tbody tr th {\n",
       "        vertical-align: top;\n",
       "    }\n",
       "\n",
       "    .dataframe thead th {\n",
       "        text-align: right;\n",
       "    }\n",
       "</style>\n",
       "<table border=\"1\" class=\"dataframe\">\n",
       "  <thead>\n",
       "    <tr style=\"text-align: right;\">\n",
       "      <th></th>\n",
       "      <th>loan_amnt</th>\n",
       "      <th>funded_amnt</th>\n",
       "      <th>funded_amnt_inv</th>\n",
       "      <th>int_rate</th>\n",
       "      <th>installment</th>\n",
       "      <th>annual_inc</th>\n",
       "      <th>total_acc</th>\n",
       "      <th>total_pymnt</th>\n",
       "      <th>total_pymnt_inv</th>\n",
       "      <th>total_rec_prncp</th>\n",
       "      <th>total_rec_int</th>\n",
       "      <th>last_pymnt_amnt</th>\n",
       "    </tr>\n",
       "  </thead>\n",
       "  <tbody>\n",
       "    <tr>\n",
       "      <th>0</th>\n",
       "      <td>0.033367</td>\n",
       "      <td>0.0</td>\n",
       "      <td>0.028879</td>\n",
       "      <td>0.279828</td>\n",
       "      <td>0.036495</td>\n",
       "      <td>-0.143224</td>\n",
       "      <td>-0.191810</td>\n",
       "      <td>-0.367055</td>\n",
       "      <td>-0.364306</td>\n",
       "      <td>-0.172076</td>\n",
       "      <td>-0.049672</td>\n",
       "      <td>-0.328884</td>\n",
       "    </tr>\n",
       "    <tr>\n",
       "      <th>1</th>\n",
       "      <td>0.033367</td>\n",
       "      <td>0.0</td>\n",
       "      <td>0.028879</td>\n",
       "      <td>-0.416729</td>\n",
       "      <td>0.036495</td>\n",
       "      <td>-0.143224</td>\n",
       "      <td>-0.191810</td>\n",
       "      <td>-0.367055</td>\n",
       "      <td>-0.364306</td>\n",
       "      <td>-2.855896</td>\n",
       "      <td>-0.049672</td>\n",
       "      <td>-0.328884</td>\n",
       "    </tr>\n",
       "    <tr>\n",
       "      <th>2</th>\n",
       "      <td>0.033367</td>\n",
       "      <td>0.0</td>\n",
       "      <td>0.028879</td>\n",
       "      <td>-0.416729</td>\n",
       "      <td>0.036495</td>\n",
       "      <td>-0.143224</td>\n",
       "      <td>-0.191810</td>\n",
       "      <td>-0.367055</td>\n",
       "      <td>-0.364306</td>\n",
       "      <td>-0.172076</td>\n",
       "      <td>-0.049672</td>\n",
       "      <td>-0.328884</td>\n",
       "    </tr>\n",
       "    <tr>\n",
       "      <th>3</th>\n",
       "      <td>0.033367</td>\n",
       "      <td>0.0</td>\n",
       "      <td>0.028879</td>\n",
       "      <td>0.279828</td>\n",
       "      <td>0.036495</td>\n",
       "      <td>-0.143224</td>\n",
       "      <td>0.080964</td>\n",
       "      <td>0.915543</td>\n",
       "      <td>0.922470</td>\n",
       "      <td>-0.172076</td>\n",
       "      <td>-0.049672</td>\n",
       "      <td>-0.328884</td>\n",
       "    </tr>\n",
       "    <tr>\n",
       "      <th>4</th>\n",
       "      <td>0.033367</td>\n",
       "      <td>0.0</td>\n",
       "      <td>0.028879</td>\n",
       "      <td>0.279828</td>\n",
       "      <td>0.036495</td>\n",
       "      <td>0.275222</td>\n",
       "      <td>0.080964</td>\n",
       "      <td>-0.367055</td>\n",
       "      <td>-0.364306</td>\n",
       "      <td>-0.172076</td>\n",
       "      <td>-0.049672</td>\n",
       "      <td>-0.328884</td>\n",
       "    </tr>\n",
       "  </tbody>\n",
       "</table>\n",
       "</div>"
      ],
      "text/plain": [
       "   loan_amnt  funded_amnt  funded_amnt_inv  int_rate  installment  annual_inc  \\\n",
       "0   0.033367          0.0         0.028879  0.279828     0.036495   -0.143224   \n",
       "1   0.033367          0.0         0.028879 -0.416729     0.036495   -0.143224   \n",
       "2   0.033367          0.0         0.028879 -0.416729     0.036495   -0.143224   \n",
       "3   0.033367          0.0         0.028879  0.279828     0.036495   -0.143224   \n",
       "4   0.033367          0.0         0.028879  0.279828     0.036495    0.275222   \n",
       "\n",
       "   total_acc  total_pymnt  total_pymnt_inv  total_rec_prncp  total_rec_int  \\\n",
       "0  -0.191810    -0.367055        -0.364306        -0.172076      -0.049672   \n",
       "1  -0.191810    -0.367055        -0.364306        -2.855896      -0.049672   \n",
       "2  -0.191810    -0.367055        -0.364306        -0.172076      -0.049672   \n",
       "3   0.080964     0.915543         0.922470        -0.172076      -0.049672   \n",
       "4   0.080964    -0.367055        -0.364306        -0.172076      -0.049672   \n",
       "\n",
       "   last_pymnt_amnt  \n",
       "0        -0.328884  \n",
       "1        -0.328884  \n",
       "2        -0.328884  \n",
       "3        -0.328884  \n",
       "4        -0.328884  "
      ]
     },
     "execution_count": 54,
     "metadata": {},
     "output_type": "execute_result"
    }
   ],
   "source": [
    "woe_t.transform(x_train_b).head()"
   ]
  },
  {
   "cell_type": "markdown",
   "id": "7125ff0f",
   "metadata": {},
   "source": [
    "## WOE"
   ]
  },
  {
   "cell_type": "markdown",
   "id": "a90ef7e9",
   "metadata": {},
   "source": [
    "Now that we transformer our data to the respective Weight of Evidence, we can get the mappings for a given column to analyze the WoE and IV, and determine if our bins have a good predictive power, or if we need to re-structure them."
   ]
  },
  {
   "cell_type": "code",
   "execution_count": 55,
   "id": "1869c1d0",
   "metadata": {},
   "outputs": [
    {
     "data": {
      "text/html": [
       "<div>\n",
       "<style scoped>\n",
       "    .dataframe tbody tr th:only-of-type {\n",
       "        vertical-align: middle;\n",
       "    }\n",
       "\n",
       "    .dataframe tbody tr th {\n",
       "        vertical-align: top;\n",
       "    }\n",
       "\n",
       "    .dataframe thead th {\n",
       "        text-align: right;\n",
       "    }\n",
       "</style>\n",
       "<table border=\"1\" class=\"dataframe\">\n",
       "  <thead>\n",
       "    <tr style=\"text-align: right;\">\n",
       "      <th></th>\n",
       "      <th>loan_amnt</th>\n",
       "      <th>good</th>\n",
       "      <th>bad</th>\n",
       "      <th>woe</th>\n",
       "      <th>info_val</th>\n",
       "    </tr>\n",
       "  </thead>\n",
       "  <tbody>\n",
       "    <tr>\n",
       "      <th>1</th>\n",
       "      <td>(40, 46)</td>\n",
       "      <td>0.443323</td>\n",
       "      <td>0.461591</td>\n",
       "      <td>-0.040382</td>\n",
       "      <td>0.000738</td>\n",
       "    </tr>\n",
       "    <tr>\n",
       "      <th>0</th>\n",
       "      <td>(37, 40)</td>\n",
       "      <td>0.556677</td>\n",
       "      <td>0.538409</td>\n",
       "      <td>0.033367</td>\n",
       "      <td>0.000610</td>\n",
       "    </tr>\n",
       "  </tbody>\n",
       "</table>\n",
       "</div>"
      ],
      "text/plain": [
       "  loan_amnt      good       bad       woe  info_val\n",
       "1  (40, 46)  0.443323  0.461591 -0.040382  0.000738\n",
       "0  (37, 40)  0.556677  0.538409  0.033367  0.000610"
      ]
     },
     "execution_count": 55,
     "metadata": {},
     "output_type": "execute_result"
    }
   ],
   "source": [
    "woe_t.woe_mappings[\"loan_amnt\"]"
   ]
  },
  {
   "cell_type": "code",
   "execution_count": 56,
   "id": "db9509fb",
   "metadata": {},
   "outputs": [
    {
     "data": {
      "text/html": [
       "<div>\n",
       "<style scoped>\n",
       "    .dataframe tbody tr th:only-of-type {\n",
       "        vertical-align: middle;\n",
       "    }\n",
       "\n",
       "    .dataframe tbody tr th {\n",
       "        vertical-align: top;\n",
       "    }\n",
       "\n",
       "    .dataframe thead th {\n",
       "        text-align: right;\n",
       "    }\n",
       "</style>\n",
       "<table border=\"1\" class=\"dataframe\">\n",
       "  <thead>\n",
       "    <tr style=\"text-align: right;\">\n",
       "      <th></th>\n",
       "      <th>funded_amnt</th>\n",
       "      <th>good</th>\n",
       "      <th>bad</th>\n",
       "      <th>woe</th>\n",
       "      <th>info_val</th>\n",
       "    </tr>\n",
       "  </thead>\n",
       "  <tbody>\n",
       "    <tr>\n",
       "      <th>0</th>\n",
       "      <td>(23, 83)</td>\n",
       "      <td>1.0</td>\n",
       "      <td>1.0</td>\n",
       "      <td>0.0</td>\n",
       "      <td>0.0</td>\n",
       "    </tr>\n",
       "  </tbody>\n",
       "</table>\n",
       "</div>"
      ],
      "text/plain": [
       "  funded_amnt  good  bad  woe  info_val\n",
       "0    (23, 83)   1.0  1.0  0.0       0.0"
      ]
     },
     "execution_count": 56,
     "metadata": {},
     "output_type": "execute_result"
    }
   ],
   "source": [
    "woe_t.woe_mappings[\"funded_amnt\"]"
   ]
  },
  {
   "cell_type": "code",
   "execution_count": 57,
   "id": "260fcf82",
   "metadata": {},
   "outputs": [
    {
     "data": {
      "text/html": [
       "<div>\n",
       "<style scoped>\n",
       "    .dataframe tbody tr th:only-of-type {\n",
       "        vertical-align: middle;\n",
       "    }\n",
       "\n",
       "    .dataframe tbody tr th {\n",
       "        vertical-align: top;\n",
       "    }\n",
       "\n",
       "    .dataframe thead th {\n",
       "        text-align: right;\n",
       "    }\n",
       "</style>\n",
       "<table border=\"1\" class=\"dataframe\">\n",
       "  <thead>\n",
       "    <tr style=\"text-align: right;\">\n",
       "      <th></th>\n",
       "      <th>funded_amnt_inv</th>\n",
       "      <th>good</th>\n",
       "      <th>bad</th>\n",
       "      <th>woe</th>\n",
       "      <th>info_val</th>\n",
       "    </tr>\n",
       "  </thead>\n",
       "  <tbody>\n",
       "    <tr>\n",
       "      <th>0</th>\n",
       "      <td>(-inf, 29000)</td>\n",
       "      <td>0.000963</td>\n",
       "      <td>0.003355</td>\n",
       "      <td>-1.248039</td>\n",
       "      <td>0.002985</td>\n",
       "    </tr>\n",
       "    <tr>\n",
       "      <th>2</th>\n",
       "      <td>(33000, 42000)</td>\n",
       "      <td>0.440147</td>\n",
       "      <td>0.453664</td>\n",
       "      <td>-0.030249</td>\n",
       "      <td>0.000409</td>\n",
       "    </tr>\n",
       "    <tr>\n",
       "      <th>1</th>\n",
       "      <td>(29000, 33000)</td>\n",
       "      <td>0.558890</td>\n",
       "      <td>0.542980</td>\n",
       "      <td>0.028879</td>\n",
       "      <td>0.000459</td>\n",
       "    </tr>\n",
       "  </tbody>\n",
       "</table>\n",
       "</div>"
      ],
      "text/plain": [
       "  funded_amnt_inv      good       bad       woe  info_val\n",
       "0   (-inf, 29000)  0.000963  0.003355 -1.248039  0.002985\n",
       "2  (33000, 42000)  0.440147  0.453664 -0.030249  0.000409\n",
       "1  (29000, 33000)  0.558890  0.542980  0.028879  0.000459"
      ]
     },
     "execution_count": 57,
     "metadata": {},
     "output_type": "execute_result"
    }
   ],
   "source": [
    "woe_t.woe_mappings[\"funded_amnt_inv\"]"
   ]
  },
  {
   "cell_type": "code",
   "execution_count": 60,
   "id": "6fa720d6",
   "metadata": {},
   "outputs": [
    {
     "data": {
      "text/html": [
       "<div>\n",
       "<style scoped>\n",
       "    .dataframe tbody tr th:only-of-type {\n",
       "        vertical-align: middle;\n",
       "    }\n",
       "\n",
       "    .dataframe tbody tr th {\n",
       "        vertical-align: top;\n",
       "    }\n",
       "\n",
       "    .dataframe thead th {\n",
       "        text-align: right;\n",
       "    }\n",
       "</style>\n",
       "<table border=\"1\" class=\"dataframe\">\n",
       "  <thead>\n",
       "    <tr style=\"text-align: right;\">\n",
       "      <th></th>\n",
       "      <th>int_rate</th>\n",
       "      <th>good</th>\n",
       "      <th>bad</th>\n",
       "      <th>woe</th>\n",
       "      <th>info_val</th>\n",
       "    </tr>\n",
       "  </thead>\n",
       "  <tbody>\n",
       "    <tr>\n",
       "      <th>1</th>\n",
       "      <td>(47000, inf)</td>\n",
       "      <td>0.437026</td>\n",
       "      <td>0.662965</td>\n",
       "      <td>-0.416729</td>\n",
       "      <td>0.094155</td>\n",
       "    </tr>\n",
       "    <tr>\n",
       "      <th>2</th>\n",
       "      <td>(558, 1254)</td>\n",
       "      <td>0.342348</td>\n",
       "      <td>0.258785</td>\n",
       "      <td>0.279828</td>\n",
       "      <td>0.023383</td>\n",
       "    </tr>\n",
       "    <tr>\n",
       "      <th>0</th>\n",
       "      <td>(-inf, 29000)</td>\n",
       "      <td>0.220626</td>\n",
       "      <td>0.078250</td>\n",
       "      <td>1.036563</td>\n",
       "      <td>0.147582</td>\n",
       "    </tr>\n",
       "  </tbody>\n",
       "</table>\n",
       "</div>"
      ],
      "text/plain": [
       "        int_rate      good       bad       woe  info_val\n",
       "1   (47000, inf)  0.437026  0.662965 -0.416729  0.094155\n",
       "2    (558, 1254)  0.342348  0.258785  0.279828  0.023383\n",
       "0  (-inf, 29000)  0.220626  0.078250  1.036563  0.147582"
      ]
     },
     "execution_count": 60,
     "metadata": {},
     "output_type": "execute_result"
    }
   ],
   "source": [
    "woe_t.woe_mappings[\"int_rate\"]"
   ]
  },
  {
   "cell_type": "code",
   "execution_count": 61,
   "id": "e58756a2",
   "metadata": {},
   "outputs": [
    {
     "data": {
      "text/html": [
       "<div>\n",
       "<style scoped>\n",
       "    .dataframe tbody tr th:only-of-type {\n",
       "        vertical-align: middle;\n",
       "    }\n",
       "\n",
       "    .dataframe tbody tr th {\n",
       "        vertical-align: top;\n",
       "    }\n",
       "\n",
       "    .dataframe thead th {\n",
       "        text-align: right;\n",
       "    }\n",
       "</style>\n",
       "<table border=\"1\" class=\"dataframe\">\n",
       "  <thead>\n",
       "    <tr style=\"text-align: right;\">\n",
       "      <th></th>\n",
       "      <th>installment</th>\n",
       "      <th>good</th>\n",
       "      <th>bad</th>\n",
       "      <th>woe</th>\n",
       "      <th>info_val</th>\n",
       "    </tr>\n",
       "  </thead>\n",
       "  <tbody>\n",
       "    <tr>\n",
       "      <th>1</th>\n",
       "      <td>(40, 46)</td>\n",
       "      <td>0.41842</td>\n",
       "      <td>0.439262</td>\n",
       "      <td>-0.048611</td>\n",
       "      <td>0.001013</td>\n",
       "    </tr>\n",
       "    <tr>\n",
       "      <th>0</th>\n",
       "      <td>(37, 40)</td>\n",
       "      <td>0.58158</td>\n",
       "      <td>0.560738</td>\n",
       "      <td>0.036495</td>\n",
       "      <td>0.000761</td>\n",
       "    </tr>\n",
       "  </tbody>\n",
       "</table>\n",
       "</div>"
      ],
      "text/plain": [
       "  installment     good       bad       woe  info_val\n",
       "1    (40, 46)  0.41842  0.439262 -0.048611  0.001013\n",
       "0    (37, 40)  0.58158  0.560738  0.036495  0.000761"
      ]
     },
     "execution_count": 61,
     "metadata": {},
     "output_type": "execute_result"
    }
   ],
   "source": [
    "woe_t.woe_mappings[\"installment\"]"
   ]
  },
  {
   "cell_type": "code",
   "execution_count": 62,
   "id": "4071e766",
   "metadata": {},
   "outputs": [
    {
     "data": {
      "text/html": [
       "<div>\n",
       "<style scoped>\n",
       "    .dataframe tbody tr th:only-of-type {\n",
       "        vertical-align: middle;\n",
       "    }\n",
       "\n",
       "    .dataframe tbody tr th {\n",
       "        vertical-align: top;\n",
       "    }\n",
       "\n",
       "    .dataframe thead th {\n",
       "        text-align: right;\n",
       "    }\n",
       "</style>\n",
       "<table border=\"1\" class=\"dataframe\">\n",
       "  <thead>\n",
       "    <tr style=\"text-align: right;\">\n",
       "      <th></th>\n",
       "      <th>annual_inc</th>\n",
       "      <th>good</th>\n",
       "      <th>bad</th>\n",
       "      <th>woe</th>\n",
       "      <th>info_val</th>\n",
       "    </tr>\n",
       "  </thead>\n",
       "  <tbody>\n",
       "    <tr>\n",
       "      <th>1</th>\n",
       "      <td>(29000, 33000)</td>\n",
       "      <td>0.609746</td>\n",
       "      <td>0.70364</td>\n",
       "      <td>-0.143224</td>\n",
       "      <td>0.013448</td>\n",
       "    </tr>\n",
       "    <tr>\n",
       "      <th>0</th>\n",
       "      <td>(1597, inf)</td>\n",
       "      <td>0.390254</td>\n",
       "      <td>0.29636</td>\n",
       "      <td>0.275222</td>\n",
       "      <td>0.025842</td>\n",
       "    </tr>\n",
       "  </tbody>\n",
       "</table>\n",
       "</div>"
      ],
      "text/plain": [
       "       annual_inc      good      bad       woe  info_val\n",
       "1  (29000, 33000)  0.609746  0.70364 -0.143224  0.013448\n",
       "0     (1597, inf)  0.390254  0.29636  0.275222  0.025842"
      ]
     },
     "execution_count": 62,
     "metadata": {},
     "output_type": "execute_result"
    }
   ],
   "source": [
    "woe_t.woe_mappings[\"annual_inc\"]"
   ]
  },
  {
   "cell_type": "code",
   "execution_count": 63,
   "id": "e475240a",
   "metadata": {},
   "outputs": [
    {
     "data": {
      "text/html": [
       "<div>\n",
       "<style scoped>\n",
       "    .dataframe tbody tr th:only-of-type {\n",
       "        vertical-align: middle;\n",
       "    }\n",
       "\n",
       "    .dataframe tbody tr th {\n",
       "        vertical-align: top;\n",
       "    }\n",
       "\n",
       "    .dataframe thead th {\n",
       "        text-align: right;\n",
       "    }\n",
       "</style>\n",
       "<table border=\"1\" class=\"dataframe\">\n",
       "  <thead>\n",
       "    <tr style=\"text-align: right;\">\n",
       "      <th></th>\n",
       "      <th>total_acc</th>\n",
       "      <th>good</th>\n",
       "      <th>bad</th>\n",
       "      <th>woe</th>\n",
       "      <th>info_val</th>\n",
       "    </tr>\n",
       "  </thead>\n",
       "  <tbody>\n",
       "    <tr>\n",
       "      <th>0</th>\n",
       "      <td>(-inf, 558)</td>\n",
       "      <td>0.075460</td>\n",
       "      <td>0.091416</td>\n",
       "      <td>-0.191810</td>\n",
       "      <td>0.003060</td>\n",
       "    </tr>\n",
       "    <tr>\n",
       "      <th>2</th>\n",
       "      <td>(558, 1254)</td>\n",
       "      <td>0.490254</td>\n",
       "      <td>0.508074</td>\n",
       "      <td>-0.035704</td>\n",
       "      <td>0.000636</td>\n",
       "    </tr>\n",
       "    <tr>\n",
       "      <th>1</th>\n",
       "      <td>(1254, 1597)</td>\n",
       "      <td>0.434286</td>\n",
       "      <td>0.400510</td>\n",
       "      <td>0.080964</td>\n",
       "      <td>0.002735</td>\n",
       "    </tr>\n",
       "  </tbody>\n",
       "</table>\n",
       "</div>"
      ],
      "text/plain": [
       "      total_acc      good       bad       woe  info_val\n",
       "0   (-inf, 558)  0.075460  0.091416 -0.191810  0.003060\n",
       "2   (558, 1254)  0.490254  0.508074 -0.035704  0.000636\n",
       "1  (1254, 1597)  0.434286  0.400510  0.080964  0.002735"
      ]
     },
     "execution_count": 63,
     "metadata": {},
     "output_type": "execute_result"
    }
   ],
   "source": [
    "woe_t.woe_mappings[\"total_acc\"]"
   ]
  },
  {
   "cell_type": "code",
   "execution_count": 64,
   "id": "b1e14873",
   "metadata": {},
   "outputs": [
    {
     "data": {
      "text/html": [
       "<div>\n",
       "<style scoped>\n",
       "    .dataframe tbody tr th:only-of-type {\n",
       "        vertical-align: middle;\n",
       "    }\n",
       "\n",
       "    .dataframe tbody tr th {\n",
       "        vertical-align: top;\n",
       "    }\n",
       "\n",
       "    .dataframe thead th {\n",
       "        text-align: right;\n",
       "    }\n",
       "</style>\n",
       "<table border=\"1\" class=\"dataframe\">\n",
       "  <thead>\n",
       "    <tr style=\"text-align: right;\">\n",
       "      <th></th>\n",
       "      <th>total_pymnt</th>\n",
       "      <th>good</th>\n",
       "      <th>bad</th>\n",
       "      <th>woe</th>\n",
       "      <th>info_val</th>\n",
       "    </tr>\n",
       "  </thead>\n",
       "  <tbody>\n",
       "    <tr>\n",
       "      <th>1</th>\n",
       "      <td>(37, 40)</td>\n",
       "      <td>0.574879</td>\n",
       "      <td>0.829824</td>\n",
       "      <td>-0.367055</td>\n",
       "      <td>0.093579</td>\n",
       "    </tr>\n",
       "    <tr>\n",
       "      <th>0</th>\n",
       "      <td>(1597, inf)</td>\n",
       "      <td>0.425121</td>\n",
       "      <td>0.170176</td>\n",
       "      <td>0.915543</td>\n",
       "      <td>0.233414</td>\n",
       "    </tr>\n",
       "  </tbody>\n",
       "</table>\n",
       "</div>"
      ],
      "text/plain": [
       "   total_pymnt      good       bad       woe  info_val\n",
       "1     (37, 40)  0.574879  0.829824 -0.367055  0.093579\n",
       "0  (1597, inf)  0.425121  0.170176  0.915543  0.233414"
      ]
     },
     "execution_count": 64,
     "metadata": {},
     "output_type": "execute_result"
    }
   ],
   "source": [
    "woe_t.woe_mappings[\"total_pymnt\"]"
   ]
  },
  {
   "cell_type": "code",
   "execution_count": 65,
   "id": "64cac92c",
   "metadata": {},
   "outputs": [
    {
     "data": {
      "text/html": [
       "<div>\n",
       "<style scoped>\n",
       "    .dataframe tbody tr th:only-of-type {\n",
       "        vertical-align: middle;\n",
       "    }\n",
       "\n",
       "    .dataframe tbody tr th {\n",
       "        vertical-align: top;\n",
       "    }\n",
       "\n",
       "    .dataframe thead th {\n",
       "        text-align: right;\n",
       "    }\n",
       "</style>\n",
       "<table border=\"1\" class=\"dataframe\">\n",
       "  <thead>\n",
       "    <tr style=\"text-align: right;\">\n",
       "      <th></th>\n",
       "      <th>total_pymnt_inv</th>\n",
       "      <th>good</th>\n",
       "      <th>bad</th>\n",
       "      <th>woe</th>\n",
       "      <th>info_val</th>\n",
       "    </tr>\n",
       "  </thead>\n",
       "  <tbody>\n",
       "    <tr>\n",
       "      <th>1</th>\n",
       "      <td>(37, 40)</td>\n",
       "      <td>0.578192</td>\n",
       "      <td>0.832316</td>\n",
       "      <td>-0.364306</td>\n",
       "      <td>0.092579</td>\n",
       "    </tr>\n",
       "    <tr>\n",
       "      <th>0</th>\n",
       "      <td>(1597, inf)</td>\n",
       "      <td>0.421808</td>\n",
       "      <td>0.167684</td>\n",
       "      <td>0.922470</td>\n",
       "      <td>0.234422</td>\n",
       "    </tr>\n",
       "  </tbody>\n",
       "</table>\n",
       "</div>"
      ],
      "text/plain": [
       "  total_pymnt_inv      good       bad       woe  info_val\n",
       "1        (37, 40)  0.578192  0.832316 -0.364306  0.092579\n",
       "0     (1597, inf)  0.421808  0.167684  0.922470  0.234422"
      ]
     },
     "execution_count": 65,
     "metadata": {},
     "output_type": "execute_result"
    }
   ],
   "source": [
    "woe_t.woe_mappings[\"total_pymnt_inv\"]"
   ]
  },
  {
   "cell_type": "code",
   "execution_count": 66,
   "id": "8b8a9ba5",
   "metadata": {},
   "outputs": [
    {
     "data": {
      "text/html": [
       "<div>\n",
       "<style scoped>\n",
       "    .dataframe tbody tr th:only-of-type {\n",
       "        vertical-align: middle;\n",
       "    }\n",
       "\n",
       "    .dataframe tbody tr th {\n",
       "        vertical-align: top;\n",
       "    }\n",
       "\n",
       "    .dataframe thead th {\n",
       "        text-align: right;\n",
       "    }\n",
       "</style>\n",
       "<table border=\"1\" class=\"dataframe\">\n",
       "  <thead>\n",
       "    <tr style=\"text-align: right;\">\n",
       "      <th></th>\n",
       "      <th>total_rec_prncp</th>\n",
       "      <th>good</th>\n",
       "      <th>bad</th>\n",
       "      <th>woe</th>\n",
       "      <th>info_val</th>\n",
       "    </tr>\n",
       "  </thead>\n",
       "  <tbody>\n",
       "    <tr>\n",
       "      <th>0</th>\n",
       "      <td>(-inf, 29000)</td>\n",
       "      <td>0.009767</td>\n",
       "      <td>0.169842</td>\n",
       "      <td>-2.855896</td>\n",
       "      <td>0.457159</td>\n",
       "    </tr>\n",
       "    <tr>\n",
       "      <th>2</th>\n",
       "      <td>(29000, 33000)</td>\n",
       "      <td>0.649595</td>\n",
       "      <td>0.771569</td>\n",
       "      <td>-0.172076</td>\n",
       "      <td>0.020989</td>\n",
       "    </tr>\n",
       "    <tr>\n",
       "      <th>1</th>\n",
       "      <td>(1597, inf)</td>\n",
       "      <td>0.340638</td>\n",
       "      <td>0.058589</td>\n",
       "      <td>1.760270</td>\n",
       "      <td>0.496482</td>\n",
       "    </tr>\n",
       "  </tbody>\n",
       "</table>\n",
       "</div>"
      ],
      "text/plain": [
       "  total_rec_prncp      good       bad       woe  info_val\n",
       "0   (-inf, 29000)  0.009767  0.169842 -2.855896  0.457159\n",
       "2  (29000, 33000)  0.649595  0.771569 -0.172076  0.020989\n",
       "1     (1597, inf)  0.340638  0.058589  1.760270  0.496482"
      ]
     },
     "execution_count": 66,
     "metadata": {},
     "output_type": "execute_result"
    }
   ],
   "source": [
    "woe_t.woe_mappings[\"total_rec_prncp\"]"
   ]
  },
  {
   "cell_type": "code",
   "execution_count": 67,
   "id": "f01b0861",
   "metadata": {},
   "outputs": [
    {
     "data": {
      "text/html": [
       "<div>\n",
       "<style scoped>\n",
       "    .dataframe tbody tr th:only-of-type {\n",
       "        vertical-align: middle;\n",
       "    }\n",
       "\n",
       "    .dataframe tbody tr th {\n",
       "        vertical-align: top;\n",
       "    }\n",
       "\n",
       "    .dataframe thead th {\n",
       "        text-align: right;\n",
       "    }\n",
       "</style>\n",
       "<table border=\"1\" class=\"dataframe\">\n",
       "  <thead>\n",
       "    <tr style=\"text-align: right;\">\n",
       "      <th></th>\n",
       "      <th>total_rec_int</th>\n",
       "      <th>good</th>\n",
       "      <th>bad</th>\n",
       "      <th>woe</th>\n",
       "      <th>info_val</th>\n",
       "    </tr>\n",
       "  </thead>\n",
       "  <tbody>\n",
       "    <tr>\n",
       "      <th>0</th>\n",
       "      <td>(12, 45)</td>\n",
       "      <td>0.651806</td>\n",
       "      <td>0.685</td>\n",
       "      <td>-0.049672</td>\n",
       "      <td>0.001649</td>\n",
       "    </tr>\n",
       "    <tr>\n",
       "      <th>1</th>\n",
       "      <td>(45, 71)</td>\n",
       "      <td>0.348194</td>\n",
       "      <td>0.315</td>\n",
       "      <td>0.100187</td>\n",
       "      <td>0.003326</td>\n",
       "    </tr>\n",
       "  </tbody>\n",
       "</table>\n",
       "</div>"
      ],
      "text/plain": [
       "  total_rec_int      good    bad       woe  info_val\n",
       "0      (12, 45)  0.651806  0.685 -0.049672  0.001649\n",
       "1      (45, 71)  0.348194  0.315  0.100187  0.003326"
      ]
     },
     "execution_count": 67,
     "metadata": {},
     "output_type": "execute_result"
    }
   ],
   "source": [
    "woe_t.woe_mappings[\"total_rec_int\"]"
   ]
  },
  {
   "cell_type": "code",
   "execution_count": 68,
   "id": "3c5d7742",
   "metadata": {},
   "outputs": [
    {
     "data": {
      "text/html": [
       "<div>\n",
       "<style scoped>\n",
       "    .dataframe tbody tr th:only-of-type {\n",
       "        vertical-align: middle;\n",
       "    }\n",
       "\n",
       "    .dataframe tbody tr th {\n",
       "        vertical-align: top;\n",
       "    }\n",
       "\n",
       "    .dataframe thead th {\n",
       "        text-align: right;\n",
       "    }\n",
       "</style>\n",
       "<table border=\"1\" class=\"dataframe\">\n",
       "  <thead>\n",
       "    <tr style=\"text-align: right;\">\n",
       "      <th></th>\n",
       "      <th>last_pymnt_amnt</th>\n",
       "      <th>good</th>\n",
       "      <th>bad</th>\n",
       "      <th>woe</th>\n",
       "      <th>info_val</th>\n",
       "    </tr>\n",
       "  </thead>\n",
       "  <tbody>\n",
       "    <tr>\n",
       "      <th>1</th>\n",
       "      <td>(558, 1254)</td>\n",
       "      <td>0.717947</td>\n",
       "      <td>0.997528</td>\n",
       "      <td>-0.328884</td>\n",
       "      <td>0.091950</td>\n",
       "    </tr>\n",
       "    <tr>\n",
       "      <th>0</th>\n",
       "      <td>(1597, inf)</td>\n",
       "      <td>0.282053</td>\n",
       "      <td>0.002472</td>\n",
       "      <td>4.736952</td>\n",
       "      <td>1.324359</td>\n",
       "    </tr>\n",
       "  </tbody>\n",
       "</table>\n",
       "</div>"
      ],
      "text/plain": [
       "  last_pymnt_amnt      good       bad       woe  info_val\n",
       "1     (558, 1254)  0.717947  0.997528 -0.328884  0.091950\n",
       "0     (1597, inf)  0.282053  0.002472  4.736952  1.324359"
      ]
     },
     "execution_count": 68,
     "metadata": {},
     "output_type": "execute_result"
    }
   ],
   "source": [
    "woe_t.woe_mappings[\"last_pymnt_amnt\"]"
   ]
  },
  {
   "cell_type": "code",
   "execution_count": 71,
   "id": "f6edb009",
   "metadata": {},
   "outputs": [
    {
     "data": {
      "image/png": "[encoded data removed]",
      "text/plain": [
       "<Figure size 864x576 with 2 Axes>"
      ]
     },
     "metadata": {
      "needs_background": "light"
     },
     "output_type": "display_data"
    }
   ],
   "source": [
    "ax = woe_t.woe_mappings[\"loan_amnt\"].plot.bar(\n",
    "    x=\"loan_amnt\", y=[\"good\", \"bad\"], figsize=(12, 8), stacked=True\n",
    ")\n",
    "\n",
    "woe_t.woe_mappings[\"loan_amnt\"].plot(\n",
    "    x=\"loan_amnt\", y=\"woe\", ax=ax, secondary_y=True, mark_right=False, c=\"r\"\n",
    ")\n",
    "\n",
    "ax.right_ax.set_ylabel(\"WOE\")\n",
    "ax.set_ylabel(\"Relative Odds\");"
   ]
  },
  {
   "cell_type": "code",
   "execution_count": 72,
   "id": "e70f07cf",
   "metadata": {},
   "outputs": [
    {
     "data": {
      "image/png": "[encoded data removed]",
      "text/plain": [
       "<Figure size 864x576 with 2 Axes>"
      ]
     },
     "metadata": {
      "needs_background": "light"
     },
     "output_type": "display_data"
    }
   ],
   "source": [
    "ax = woe_t.woe_mappings[\"funded_amnt\"].plot.bar(\n",
    "    x=\"funded_amnt\", y=[\"good\", \"bad\"], figsize=(12, 8), stacked=True\n",
    ")\n",
    "\n",
    "woe_t.woe_mappings[\"funded_amnt\"].plot(\n",
    "    x=\"funded_amnt\", y=\"woe\", ax=ax, secondary_y=True, mark_right=False, c=\"r\"\n",
    ")\n",
    "\n",
    "ax.right_ax.set_ylabel(\"WOE\")\n",
    "ax.set_ylabel(\"Relative Odds\");"
   ]
  },
  {
   "cell_type": "code",
   "execution_count": 73,
   "id": "73713e98",
   "metadata": {},
   "outputs": [
    {
     "data": {
      "image/png": "[encoded data removed]",
      "text/plain": [
       "<Figure size 864x576 with 2 Axes>"
      ]
     },
     "metadata": {
      "needs_background": "light"
     },
     "output_type": "display_data"
    }
   ],
   "source": [
    "ax = woe_t.woe_mappings[\"funded_amnt_inv\"].plot.bar(\n",
    "    x=\"funded_amnt_inv\", y=[\"good\", \"bad\"], figsize=(12, 8), stacked=True\n",
    ")\n",
    "\n",
    "woe_t.woe_mappings[\"funded_amnt_inv\"].plot(\n",
    "    x=\"funded_amnt_inv\", y=\"woe\", ax=ax, secondary_y=True, mark_right=False, c=\"r\"\n",
    ")\n",
    "\n",
    "ax.right_ax.set_ylabel(\"WOE\")\n",
    "ax.set_ylabel(\"Relative Odds\");"
   ]
  },
  {
   "cell_type": "code",
   "execution_count": 74,
   "id": "bdf794ca",
   "metadata": {},
   "outputs": [
    {
     "data": {
      "image/png": "[encoded data removed]",
      "text/plain": [
       "<Figure size 864x576 with 2 Axes>"
      ]
     },
     "metadata": {
      "needs_background": "light"
     },
     "output_type": "display_data"
    }
   ],
   "source": [
    "ax = woe_t.woe_mappings[\"int_rate\"].plot.bar(\n",
    "    x=\"int_rate\", y=[\"good\", \"bad\"], figsize=(12, 8), stacked=True\n",
    ")\n",
    "\n",
    "woe_t.woe_mappings[\"int_rate\"].plot(\n",
    "    x=\"int_rate\", y=\"woe\", ax=ax, secondary_y=True, mark_right=False, c=\"r\"\n",
    ")\n",
    "\n",
    "ax.right_ax.set_ylabel(\"WOE\")\n",
    "ax.set_ylabel(\"Relative Odds\");"
   ]
  },
  {
   "cell_type": "code",
   "execution_count": 75,
   "id": "01e977ba",
   "metadata": {},
   "outputs": [
    {
     "data": {
      "image/png": "[encoded data removed]",
      "text/plain": [
       "<Figure size 864x576 with 2 Axes>"
      ]
     },
     "metadata": {
      "needs_background": "light"
     },
     "output_type": "display_data"
    }
   ],
   "source": [
    "ax = woe_t.woe_mappings[\"installment\"].plot.bar(\n",
    "    x=\"installment\", y=[\"good\", \"bad\"], figsize=(12, 8), stacked=True\n",
    ")\n",
    "\n",
    "woe_t.woe_mappings[\"installment\"].plot(\n",
    "    x=\"installment\", y=\"woe\", ax=ax, secondary_y=True, mark_right=False, c=\"r\"\n",
    ")\n",
    "\n",
    "ax.right_ax.set_ylabel(\"WOE\")\n",
    "ax.set_ylabel(\"Relative Odds\");"
   ]
  },
  {
   "cell_type": "code",
   "execution_count": 76,
   "id": "34dcaffc",
   "metadata": {},
   "outputs": [
    {
     "data": {
      "image/png": "[encoded data removed]",
      "text/plain": [
       "<Figure size 864x576 with 2 Axes>"
      ]
     },
     "metadata": {
      "needs_background": "light"
     },
     "output_type": "display_data"
    }
   ],
   "source": [
    "ax = woe_t.woe_mappings[\"annual_inc\"].plot.bar(\n",
    "    x=\"annual_inc\", y=[\"good\", \"bad\"], figsize=(12, 8), stacked=True\n",
    ")\n",
    "\n",
    "woe_t.woe_mappings[\"annual_inc\"].plot(\n",
    "    x=\"annual_inc\", y=\"woe\", ax=ax, secondary_y=True, mark_right=False, c=\"r\"\n",
    ")\n",
    "\n",
    "ax.right_ax.set_ylabel(\"WOE\")\n",
    "ax.set_ylabel(\"Relative Odds\");"
   ]
  },
  {
   "cell_type": "code",
   "execution_count": 77,
   "id": "088137a7",
   "metadata": {},
   "outputs": [
    {
     "data": {
      "image/png": "[encoded data removed]",
      "text/plain": [
       "<Figure size 864x576 with 2 Axes>"
      ]
     },
     "metadata": {
      "needs_background": "light"
     },
     "output_type": "display_data"
    }
   ],
   "source": [
    "ax = woe_t.woe_mappings[\"total_acc\"].plot.bar(\n",
    "    x=\"total_acc\", y=[\"good\", \"bad\"], figsize=(12, 8), stacked=True\n",
    ")\n",
    "\n",
    "woe_t.woe_mappings[\"total_acc\"].plot(\n",
    "    x=\"total_acc\", y=\"woe\", ax=ax, secondary_y=True, mark_right=False, c=\"r\"\n",
    ")\n",
    "\n",
    "ax.right_ax.set_ylabel(\"WOE\")\n",
    "ax.set_ylabel(\"Relative Odds\");"
   ]
  },
  {
   "cell_type": "code",
   "execution_count": 78,
   "id": "f2dc335d",
   "metadata": {},
   "outputs": [
    {
     "data": {
      "image/png": "[encoded data removed]",
      "text/plain": [
       "<Figure size 864x576 with 2 Axes>"
      ]
     },
     "metadata": {
      "needs_background": "light"
     },
     "output_type": "display_data"
    }
   ],
   "source": [
    "ax = woe_t.woe_mappings[\"total_pymnt\"].plot.bar(\n",
    "    x=\"total_pymnt\", y=[\"good\", \"bad\"], figsize=(12, 8), stacked=True\n",
    ")\n",
    "\n",
    "woe_t.woe_mappings[\"total_pymnt\"].plot(\n",
    "    x=\"total_pymnt\", y=\"woe\", ax=ax, secondary_y=True, mark_right=False, c=\"r\"\n",
    ")\n",
    "\n",
    "ax.right_ax.set_ylabel(\"WOE\")\n",
    "ax.set_ylabel(\"Relative Odds\");"
   ]
  },
  {
   "cell_type": "code",
   "execution_count": 79,
   "id": "03d5dbfc",
   "metadata": {},
   "outputs": [
    {
     "data": {
      "image/png": "[encoded data removed]",
      "text/plain": [
       "<Figure size 864x576 with 2 Axes>"
      ]
     },
     "metadata": {
      "needs_background": "light"
     },
     "output_type": "display_data"
    }
   ],
   "source": [
    "ax = woe_t.woe_mappings[\"total_pymnt_inv\"].plot.bar(\n",
    "    x=\"total_pymnt_inv\", y=[\"good\", \"bad\"], figsize=(12, 8), stacked=True\n",
    ")\n",
    "\n",
    "woe_t.woe_mappings[\"total_pymnt_inv\"].plot(\n",
    "    x=\"total_pymnt_inv\", y=\"woe\", ax=ax, secondary_y=True, mark_right=False, c=\"r\"\n",
    ")\n",
    "\n",
    "ax.right_ax.set_ylabel(\"WOE\")\n",
    "ax.set_ylabel(\"Relative Odds\");"
   ]
  },
  {
   "cell_type": "code",
   "execution_count": 80,
   "id": "560291ba",
   "metadata": {},
   "outputs": [
    {
     "data": {
      "image/png": "[encoded data removed]",
      "text/plain": [
       "<Figure size 864x576 with 2 Axes>"
      ]
     },
     "metadata": {
      "needs_background": "light"
     },
     "output_type": "display_data"
    }
   ],
   "source": [
    "ax = woe_t.woe_mappings[\"total_rec_prncp\"].plot.bar(\n",
    "    x=\"total_rec_prncp\", y=[\"good\", \"bad\"], figsize=(12, 8), stacked=True\n",
    ")\n",
    "\n",
    "woe_t.woe_mappings[\"total_rec_prncp\"].plot(\n",
    "    x=\"total_rec_prncp\", y=\"woe\", ax=ax, secondary_y=True, mark_right=False, c=\"r\"\n",
    ")\n",
    "\n",
    "ax.right_ax.set_ylabel(\"WOE\")\n",
    "ax.set_ylabel(\"Relative Odds\");"
   ]
  },
  {
   "cell_type": "code",
   "execution_count": 81,
   "id": "6b599012",
   "metadata": {},
   "outputs": [
    {
     "data": {
      "image/png": "[encoded data removed]",
      "text/plain": [
       "<Figure size 864x576 with 2 Axes>"
      ]
     },
     "metadata": {
      "needs_background": "light"
     },
     "output_type": "display_data"
    }
   ],
   "source": [
    "ax = woe_t.woe_mappings[\"total_rec_int\"].plot.bar(\n",
    "    x=\"total_rec_int\", y=[\"good\", \"bad\"], figsize=(12, 8), stacked=True\n",
    ")\n",
    "\n",
    "woe_t.woe_mappings[\"total_rec_int\"].plot(\n",
    "    x=\"total_rec_int\", y=\"woe\", ax=ax, secondary_y=True, mark_right=False, c=\"r\"\n",
    ")\n",
    "\n",
    "ax.right_ax.set_ylabel(\"WOE\")\n",
    "ax.set_ylabel(\"Relative Odds\");"
   ]
  },
  {
   "cell_type": "code",
   "execution_count": 82,
   "id": "2d7f4e2c",
   "metadata": {},
   "outputs": [
    {
     "data": {
      "image/png": "[encoded data removed]",
      "text/plain": [
       "<Figure size 864x576 with 2 Axes>"
      ]
     },
     "metadata": {
      "needs_background": "light"
     },
     "output_type": "display_data"
    }
   ],
   "source": [
    "ax = woe_t.woe_mappings[\"last_pymnt_amnt\"].plot.bar(\n",
    "    x=\"last_pymnt_amnt\", y=[\"good\", \"bad\"], figsize=(12, 8), stacked=True\n",
    ")\n",
    "\n",
    "woe_t.woe_mappings[\"last_pymnt_amnt\"].plot(\n",
    "    x=\"last_pymnt_amnt\", y=\"woe\", ax=ax, secondary_y=True, mark_right=False, c=\"r\"\n",
    ")\n",
    "\n",
    "ax.right_ax.set_ylabel(\"WOE\")\n",
    "ax.set_ylabel(\"Relative Odds\");"
   ]
  },
  {
   "cell_type": "markdown",
   "id": "03021b03",
   "metadata": {},
   "source": [
    "# Pipelines\n",
    "\n",
    "We already defined our custom transformers, and since we added a `fit` and `transform` method, we are able to use `sklearn.pipelines` to stack the transformers and models into a single job that is dealing with raw data. "
   ]
  },
  {
   "cell_type": "code",
   "execution_count": 83,
   "id": "4ef0aa53",
   "metadata": {},
   "outputs": [],
   "source": [
    "ml_pipe = Pipeline([\n",
    "    ('col selector', ColumnSelectorTransformer(columns=cols_to_keep)),\n",
    "    ('bins', BinningTransformer(bins=bins)),\n",
    "    ('woe', WOETransformer(columns=cols_to_keep)),\n",
    "    # ('logistic regression', LogisticRegression(random_state=seed))\n",
    "    ('gdbt', GradientBoostingClassifier(random_state=seed))\n",
    "])"
   ]
  },
  {
   "cell_type": "code",
   "execution_count": 84,
   "id": "2315e3ac",
   "metadata": {},
   "outputs": [],
   "source": [
    "y_train_nd = [1 if val==0 else 0 for val in y_train.values]"
   ]
  },
  {
   "cell_type": "code",
   "execution_count": 85,
   "id": "23483513",
   "metadata": {
    "scrolled": true
   },
   "outputs": [
    {
     "data": {
      "text/plain": [
       "Pipeline(steps=[('col selector',\n",
       "                 ColumnSelectorTransformer(['loan_amnt', 'funded_amnt', 'funded_amnt_inv', 'int_rate', 'installment', 'annual_inc', 'total_acc', 'total_pymnt', 'total_pymnt_inv', 'total_rec_prncp', 'total_rec_int', 'last_pymnt_amnt'])),\n",
       "                ('bins', BinningTransformer()),\n",
       "                ('woe',\n",
       "                 WOETransformer(columns=['loan_amnt', 'funded_amnt', 'funded_amnt_inv', 'int_rate', 'installment', 'annual_inc', 'total_acc', 'total_pymnt', 'total_pymnt_inv', 'total_rec_prncp', 'total_rec_int', 'last_pymnt_amnt'], target_mappings={0: 'good', 1: 'bad'})),\n",
       "                ('gdbt', GradientBoostingClassifier(random_state=0))])"
      ]
     },
     "execution_count": 85,
     "metadata": {},
     "output_type": "execute_result"
    }
   ],
   "source": [
    "ml_pipe.fit(x_train, y_train_nd)"
   ]
  },
  {
   "cell_type": "code",
   "execution_count": 86,
   "id": "221a04f4",
   "metadata": {},
   "outputs": [
    {
     "data": {
      "text/plain": [
       "0.9058993342713016"
      ]
     },
     "execution_count": 86,
     "metadata": {},
     "output_type": "execute_result"
    }
   ],
   "source": [
    "ml_pipe.score(x_train, y_train_nd)"
   ]
  },
  {
   "cell_type": "code",
   "execution_count": 87,
   "id": "286bd900",
   "metadata": {},
   "outputs": [
    {
     "data": {
      "text/plain": [
       "array([[0.09879666, 0.90120334],\n",
       "       [0.67107342, 0.32892658],\n",
       "       [0.16208031, 0.83791969],\n",
       "       ...,\n",
       "       [0.19320353, 0.80679647],\n",
       "       [0.03985886, 0.96014114],\n",
       "       [0.11268518, 0.88731482]])"
      ]
     },
     "execution_count": 87,
     "metadata": {},
     "output_type": "execute_result"
    }
   ],
   "source": [
    "ml_pipe.predict_proba(x_train)"
   ]
  },
  {
   "cell_type": "code",
   "execution_count": 88,
   "id": "c0c42c13",
   "metadata": {},
   "outputs": [],
   "source": [
    "y_pred = ml_pipe.predict(x_train)"
   ]
  },
  {
   "cell_type": "code",
   "execution_count": 89,
   "id": "d01ac8bc",
   "metadata": {},
   "outputs": [
    {
     "name": "stdout",
     "output_type": "stream",
     "text": [
      "ROC AUC: 0.8233409771546927\n",
      "F1: 0.9493336289593388\n"
     ]
    }
   ],
   "source": [
    "fpr, tpr, threshold = roc_curve(y_train_nd, ml_pipe.predict_proba(x_train)[:, 1])\n",
    "roc_auc = auc(fpr, tpr)\n",
    "f1 = f1_score(y_train_nd, y_pred)\n",
    "print(f\"ROC AUC: {roc_auc}\")\n",
    "print(f\"F1: {f1}\")"
   ]
  },
  {
   "cell_type": "code",
   "execution_count": 90,
   "id": "e926ca24",
   "metadata": {},
   "outputs": [
    {
     "data": {
      "image/png": "[encoded data removed]",
      "text/plain": [
       "<Figure size 864x576 with 1 Axes>"
      ]
     },
     "metadata": {
      "needs_background": "light"
     },
     "output_type": "display_data"
    }
   ],
   "source": [
    "plt.figure(figsize=(12, 8))\n",
    "plt.title('Receiver Operating Characteristic')\n",
    "plt.plot(fpr, tpr, 'b', label = 'AUC = %0.2f' % roc_auc)\n",
    "plt.legend(loc = 'lower right')\n",
    "plt.plot([0, 1], [0, 1],'k--')\n",
    "plt.xlim([0, 1])\n",
    "plt.ylim([0, 1])\n",
    "plt.grid()\n",
    "plt.ylabel('True Positive Rate')\n",
    "plt.xlabel('False Positive Rate')\n",
    "plt.show()"
   ]
  },
  {
   "cell_type": "code",
   "execution_count": 91,
   "id": "8825ca86",
   "metadata": {},
   "outputs": [
    {
     "data": {
      "text/html": [
       "<div>\n",
       "<style scoped>\n",
       "    .dataframe tbody tr th:only-of-type {\n",
       "        vertical-align: middle;\n",
       "    }\n",
       "\n",
       "    .dataframe tbody tr th {\n",
       "        vertical-align: top;\n",
       "    }\n",
       "\n",
       "    .dataframe thead th {\n",
       "        text-align: right;\n",
       "    }\n",
       "</style>\n",
       "<table border=\"1\" class=\"dataframe\">\n",
       "  <thead>\n",
       "    <tr style=\"text-align: right;\">\n",
       "      <th></th>\n",
       "      <th>y_original</th>\n",
       "      <th>y_predicted</th>\n",
       "    </tr>\n",
       "  </thead>\n",
       "  <tbody>\n",
       "    <tr>\n",
       "      <th>0</th>\n",
       "      <td>1</td>\n",
       "      <td>0.901203</td>\n",
       "    </tr>\n",
       "    <tr>\n",
       "      <th>1</th>\n",
       "      <td>0</td>\n",
       "      <td>0.328927</td>\n",
       "    </tr>\n",
       "    <tr>\n",
       "      <th>2</th>\n",
       "      <td>1</td>\n",
       "      <td>0.837920</td>\n",
       "    </tr>\n",
       "    <tr>\n",
       "      <th>3</th>\n",
       "      <td>1</td>\n",
       "      <td>0.964864</td>\n",
       "    </tr>\n",
       "    <tr>\n",
       "      <th>4</th>\n",
       "      <td>1</td>\n",
       "      <td>0.919803</td>\n",
       "    </tr>\n",
       "  </tbody>\n",
       "</table>\n",
       "</div>"
      ],
      "text/plain": [
       "   y_original  y_predicted\n",
       "0           1     0.901203\n",
       "1           0     0.328927\n",
       "2           1     0.837920\n",
       "3           1     0.964864\n",
       "4           1     0.919803"
      ]
     },
     "execution_count": 91,
     "metadata": {},
     "output_type": "execute_result"
    }
   ],
   "source": [
    "predictions = pd.DataFrame({\"y_original\": y_train_nd, \"y_predicted\": ml_pipe.predict_proba(x_train)[:, 1]})\n",
    "predictions.head()"
   ]
  },
  {
   "cell_type": "code",
   "execution_count": 92,
   "id": "d82aa51a",
   "metadata": {},
   "outputs": [
    {
     "data": {
      "image/png": "[encoded data removed]",
      "text/plain": [
       "<Figure size 864x576 with 1 Axes>"
      ]
     },
     "metadata": {
      "needs_background": "light"
     },
     "output_type": "display_data"
    }
   ],
   "source": [
    "predictions.plot.hist(title=\"General Score Histogram\", y=\"y_predicted\", \n",
    "                      bins=10, alpha=0.8, figsize=(12, 8));"
   ]
  },
  {
   "cell_type": "code",
   "execution_count": 93,
   "id": "16fab049",
   "metadata": {},
   "outputs": [
    {
     "data": {
      "image/png": "[encoded data removed]",
      "text/plain": [
       "<Figure size 864x576 with 1 Axes>"
      ]
     },
     "metadata": {
      "needs_background": "light"
     },
     "output_type": "display_data"
    }
   ],
   "source": [
    "fig, ax = plt.subplots(figsize=(12, 8))\n",
    "\n",
    "predictions[predictions[\"y_original\"] == 1].plot.hist(title=\"General Score Hist\",\n",
    "                                                      y=\"y_predicted\",\n",
    "                                                      bins=10,\n",
    "                                                      alpha=0.8,\n",
    "                                                      ax=ax,\n",
    "                                                      label=\"1 - Non-default\")\n",
    "\n",
    "predictions[predictions[\"y_original\"] == 0].plot.hist(title=\"General Score Hist\",\n",
    "                                                      y=\"y_predicted\",\n",
    "                                                      bins=10,\n",
    "                                                      alpha=0.8,\n",
    "                                                      ax=ax,\n",
    "                                                      label=\"0 - Default\");\n"
   ]
  },
  {
   "cell_type": "code",
   "execution_count": 94,
   "id": "6ff3e447",
   "metadata": {},
   "outputs": [
    {
     "data": {
      "text/plain": [
       "y_original     0.000000\n",
       "y_predicted    0.709655\n",
       "dtype: float64"
      ]
     },
     "execution_count": 94,
     "metadata": {},
     "output_type": "execute_result"
    }
   ],
   "source": [
    "predictions[predictions[\"y_original\"] == 0].mean()"
   ]
  },
  {
   "cell_type": "code",
   "execution_count": 95,
   "id": "ffbf8877",
   "metadata": {},
   "outputs": [
    {
     "data": {
      "text/plain": [
       "y_original     1.000000\n",
       "y_predicted    0.912896\n",
       "dtype: float64"
      ]
     },
     "execution_count": 95,
     "metadata": {},
     "output_type": "execute_result"
    }
   ],
   "source": [
    "predictions[predictions[\"y_original\"] == 1].mean()"
   ]
  }
 ],
 "metadata": {
  "kernelspec": {
   "display_name": "Python 3 (ipykernel)",
   "language": "python",
   "name": "python3"
  },
  "language_info": {
   "codemirror_mode": {
    "name": "ipython",
    "version": 3
   },
   "file_extension": ".py",
   "mimetype": "text/x-python",
   "name": "python",
   "nbconvert_exporter": "python",
   "pygments_lexer": "ipython3",
   "version": "3.10.9"
  }
 },
 "nbformat": 4,
 "nbformat_minor": 5
}
